{
 "cells": [
  {
   "cell_type": "code",
   "execution_count": 1,
   "id": "5d1abc7b",
   "metadata": {},
   "outputs": [],
   "source": [
    "import json"
   ]
  },
  {
   "cell_type": "code",
   "execution_count": 4,
   "id": "a4650343",
   "metadata": {},
   "outputs": [],
   "source": [
    "# This is the code to remove prolific id from the raw data\n",
    "\n",
    "filename = 'full_data.json'\n",
    "output = 'full_data_no_id.json'\n",
    "with open(filename) as f:\n",
    "    data = json.load(f)\n",
    "    \n",
    "p_id = 0 # new id assign to participants\n",
    "for data_block in data:\n",
    "    for item in data_block['content'].strip().split('\\n'):\n",
    "        info = item.strip().split('\",\"')\n",
    "        prolific_id = info[10] \n",
    "            \n",
    "    data_block['content'] = data_block['content'].replace(prolific_id, str(p_id))\n",
    "    p_id += 1\n",
    "    \n",
    "with open(output,'w') as f:\n",
    "    json.dump(data, f)\n",
    "    \n"
   ]
  },
  {
   "cell_type": "code",
   "execution_count": null,
   "id": "6baea9d2",
   "metadata": {},
   "outputs": [],
   "source": []
  }
 ],
 "metadata": {
  "kernelspec": {
   "display_name": "Python 3",
   "language": "python",
   "name": "python3"
  },
  "language_info": {
   "codemirror_mode": {
    "name": "ipython",
    "version": 3
   },
   "file_extension": ".py",
   "mimetype": "text/x-python",
   "name": "python",
   "nbconvert_exporter": "python",
   "pygments_lexer": "ipython3",
   "version": "3.8.10"
  }
 },
 "nbformat": 4,
 "nbformat_minor": 5
}
