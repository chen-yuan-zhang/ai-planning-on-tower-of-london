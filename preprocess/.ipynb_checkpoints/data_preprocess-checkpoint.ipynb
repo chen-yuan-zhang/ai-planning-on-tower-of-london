{
 "cells": [
  {
   "cell_type": "code",
   "execution_count": 3,
   "id": "5d1abc7b",
   "metadata": {},
   "outputs": [],
   "source": [
    "import json"
   ]
  },
  {
   "cell_type": "code",
   "execution_count": 66,
   "id": "a4650343",
   "metadata": {},
   "outputs": [],
   "source": [
    "filename = 'full_data_no_id.json'\n",
    "with open(filename) as f:\n",
    "    data = json.load(f)\n",
    "    \n",
    "# full_condition = [] # participant id in full condition\n",
    "# default_condition = [] # participant id in default condition\n",
    "p_id = 0\n",
    "all_ipt = []\n",
    "all_instance = []\n",
    "all_pid = []\n",
    "all_condition = []\n",
    "all_\n",
    "instances_data = {} # {instance1:{'full':{participant1: [response times], participant2: [response times],...},'default':{...}}, instances2:{}, ...}\n",
    "participants_data = {'full':{}, 'default':{}} # {'full':{participant1:{instance1:[response times], instance2:[response times], ...}, participants2:{...}, ...}, 'default':{}}\n",
    "for data_block in data:\n",
    "    \n",
    "    if \"complete\" in data_block['content'].strip().split('\\n')[3].strip().split('\",\"')[0]:\n",
    "        condition = 'full'\n",
    "    else:\n",
    "        condition = 'default'\n",
    "        \n",
    "    participants_data[condition][p_id] = {}\n",
    "    for item in data_block['content'].strip().split('\\n'):\n",
    "        info = item.strip().split('\",\"')       \n",
    "        if info[6] == \"single-stim-button\":\n",
    "            if info[13] == \"test\": # if this is test instance\n",
    "                instance = info[20]\n",
    "                rt = info[1]\n",
    "        \n",
    "                if instance in participants_data[condition][p_id]:\n",
    "                    participants_data[condition][p_id][instance].append(rt)\n",
    "                else:\n",
    "                    participants_data[condition][p_id][instance]=[rt]\n",
    "        \n",
    "                \n",
    "                if not instance in instances_data:\n",
    "                    instances_data[instance] = {'full':{},'default':{}}\n",
    "                \n",
    "                if p_id in instances_data[instance][condition]:\n",
    "                    instances_data[instance][condition][p_id].append(rt)\n",
    "                else:\n",
    "                    instances_data[instance][condition][p_id] = [rt]\n",
    "                \n",
    "                \n",
    "                    \n",
    "    \n",
    "    \n",
    "    p_id += 1\n",
    "    \n",
    "instance_data_output = \"instances_data.json\"\n",
    "with open(instance_data_output,'w') as f:\n",
    "    json.dump(instances_data, f)\n",
    "    \n",
    "participants_data_output = \"participants_data.json\"\n",
    "with open(participants_data_output, 'w') as f:\n",
    "    json.dump(participants_data, f)\n"
   ]
  },
  {
   "cell_type": "code",
   "execution_count": null,
   "id": "3f32390e",
   "metadata": {},
   "outputs": [],
   "source": []
  }
 ],
 "metadata": {
  "kernelspec": {
   "display_name": "Python 3",
   "language": "python",
   "name": "python3"
  },
  "language_info": {
   "codemirror_mode": {
    "name": "ipython",
    "version": 3
   },
   "file_extension": ".py",
   "mimetype": "text/x-python",
   "name": "python",
   "nbconvert_exporter": "python",
   "pygments_lexer": "ipython3",
   "version": "3.8.10"
  }
 },
 "nbformat": 4,
 "nbformat_minor": 5
}
